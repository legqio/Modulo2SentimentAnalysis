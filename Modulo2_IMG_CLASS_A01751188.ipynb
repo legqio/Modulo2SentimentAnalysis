{
 "cells": [
  {
   "cell_type": "markdown",
   "metadata": {
    "id": "_CdaXce0fQva"
   },
   "source": [
    "## Inicializacion"
   ]
  },
  {
   "cell_type": "markdown",
   "metadata": {
    "id": "4bYxUTOpYKO2"
   },
   "source": [
    "Importamos librerias a utilizar"
   ]
  },
  {
   "cell_type": "code",
   "execution_count": 1,
   "metadata": {
    "execution": {
     "iopub.execute_input": "2022-11-03T10:29:27.699101Z",
     "iopub.status.busy": "2022-11-03T10:29:27.698442Z",
     "iopub.status.idle": "2022-11-03T10:29:30.983089Z",
     "shell.execute_reply": "2022-11-03T10:29:30.982150Z",
     "shell.execute_reply.started": "2022-11-03T10:29:27.699012Z"
    },
    "id": "er8y_NLlqhOn"
   },
   "outputs": [],
   "source": [
    "import re\n",
    "import string\n",
    "import numpy as np\n",
    "import pandas as pd\n",
    "from sklearn.model_selection import train_test_split\n",
    "from sklearn.feature_extraction.text import CountVectorizer\n",
    "\n",
    "import tensorflow as tf\n",
    "from tensorflow import keras\n",
    "from tensorflow.keras import layers\n",
    "\n",
    "keras.backend.clear_session()\n",
    "tf.random.set_seed(42)\n",
    "np.random.seed(42)"
   ]
  },
  {
   "cell_type": "markdown",
   "metadata": {
    "id": "lik1ojtlY7fq"
   },
   "source": [
    "Descargamos dataset"
   ]
  },
  {
   "cell_type": "code",
   "execution_count": 2,
   "metadata": {
    "colab": {
     "base_uri": "https://localhost:8080/"
    },
    "execution": {
     "iopub.execute_input": "2022-11-03T10:29:30.985089Z",
     "iopub.status.busy": "2022-11-03T10:29:30.984703Z",
     "iopub.status.idle": "2022-11-03T10:29:34.458234Z",
     "shell.execute_reply": "2022-11-03T10:29:34.456701Z",
     "shell.execute_reply.started": "2022-11-03T10:29:30.985063Z"
    },
    "id": "Xb5VeWXQcN30",
    "outputId": "0d4e4534-443d-4bf9-965f-d505a124bafc"
   },
   "outputs": [
    {
     "name": "stdout",
     "output_type": "stream",
     "text": [
      "--2022-11-03 10:29:31--  https://storage.googleapis.com/gresearch/goemotions/data/full_dataset/goemotions_1.csv\n",
      "Resolving storage.googleapis.com (storage.googleapis.com)... 142.250.176.208, 142.250.80.112, 142.250.80.16, ...\n",
      "Connecting to storage.googleapis.com (storage.googleapis.com)|142.250.176.208|:443... connected.\n",
      "HTTP request sent, awaiting response... 200 OK\n",
      "Length: 14174600 (14M) [application/octet-stream]\n",
      "Saving to: ‘data/full_dataset/goemotions_1.csv.18’\n",
      "\n",
      "goemotions_1.csv.18 100%[===================>]  13.52M  51.7MB/s    in 0.3s    \n",
      "\n",
      "2022-11-03 10:29:31 (51.7 MB/s) - ‘data/full_dataset/goemotions_1.csv.18’ saved [14174600/14174600]\n",
      "\n",
      "--2022-11-03 10:29:32--  https://storage.googleapis.com/gresearch/goemotions/data/full_dataset/goemotions_2.csv\n",
      "Resolving storage.googleapis.com (storage.googleapis.com)... 142.251.40.144, 142.250.64.112, 142.250.176.208, ...\n",
      "Connecting to storage.googleapis.com (storage.googleapis.com)|142.251.40.144|:443... connected.\n",
      "HTTP request sent, awaiting response... 200 OK\n",
      "Length: 14173154 (14M) [application/octet-stream]\n",
      "Saving to: ‘data/full_dataset/goemotions_2.csv.18’\n",
      "\n",
      "goemotions_2.csv.18 100%[===================>]  13.52M  27.4MB/s    in 0.5s    \n",
      "\n",
      "2022-11-03 10:29:33 (27.4 MB/s) - ‘data/full_dataset/goemotions_2.csv.18’ saved [14173154/14173154]\n",
      "\n",
      "--2022-11-03 10:29:33--  https://storage.googleapis.com/gresearch/goemotions/data/full_dataset/goemotions_3.csv\n",
      "Resolving storage.googleapis.com (storage.googleapis.com)... 142.250.80.112, 142.250.72.112, 142.250.64.112, ...\n",
      "Connecting to storage.googleapis.com (storage.googleapis.com)|142.250.80.112|:443... connected.\n",
      "HTTP request sent, awaiting response... 200 OK\n",
      "Length: 14395164 (14M) [application/octet-stream]\n",
      "Saving to: ‘data/full_dataset/goemotions_3.csv.18’\n",
      "\n",
      "goemotions_3.csv.18 100%[===================>]  13.73M  46.4MB/s    in 0.3s    \n",
      "\n",
      "2022-11-03 10:29:34 (46.4 MB/s) - ‘data/full_dataset/goemotions_3.csv.18’ saved [14395164/14395164]\n",
      "\n"
     ]
    }
   ],
   "source": [
    "!wget -P data/full_dataset/ https://storage.googleapis.com/gresearch/goemotions/data/full_dataset/goemotions_1.csv\n",
    "!wget -P data/full_dataset/ https://storage.googleapis.com/gresearch/goemotions/data/full_dataset/goemotions_2.csv\n",
    "!wget -P data/full_dataset/ https://storage.googleapis.com/gresearch/goemotions/data/full_dataset/goemotions_3.csv"
   ]
  },
  {
   "cell_type": "markdown",
   "metadata": {
    "id": "qioafx4cfejM"
   },
   "source": [
    "## Preprocesamiento"
   ]
  },
  {
   "cell_type": "code",
   "execution_count": 3,
   "metadata": {
    "execution": {
     "iopub.execute_input": "2022-11-03T10:29:34.462083Z",
     "iopub.status.busy": "2022-11-03T10:29:34.460567Z",
     "iopub.status.idle": "2022-11-03T10:29:35.953593Z",
     "shell.execute_reply": "2022-11-03T10:29:35.952406Z",
     "shell.execute_reply.started": "2022-11-03T10:29:34.462000Z"
    }
   },
   "outputs": [],
   "source": [
    "df_pre_1 = pd.read_csv('data/full_dataset/goemotions_1.csv')\n",
    "df_pre_2 = pd.read_csv('data/full_dataset/goemotions_2.csv')\n",
    "df_pre_3 = pd.read_csv('data/full_dataset/goemotions_3.csv')"
   ]
  },
  {
   "cell_type": "code",
   "execution_count": 4,
   "metadata": {
    "execution": {
     "iopub.execute_input": "2022-11-03T10:29:35.956228Z",
     "iopub.status.busy": "2022-11-03T10:29:35.955831Z",
     "iopub.status.idle": "2022-11-03T10:29:36.132050Z",
     "shell.execute_reply": "2022-11-03T10:29:36.131055Z",
     "shell.execute_reply.started": "2022-11-03T10:29:35.956201Z"
    }
   },
   "outputs": [],
   "source": [
    "df0 = pd.concat([df_pre_1, df_pre_2, df_pre_3]).reset_index(drop=True)"
   ]
  },
  {
   "cell_type": "code",
   "execution_count": 5,
   "metadata": {
    "execution": {
     "iopub.execute_input": "2022-11-03T10:29:36.133524Z",
     "iopub.status.busy": "2022-11-03T10:29:36.133206Z",
     "iopub.status.idle": "2022-11-03T10:29:36.139527Z",
     "shell.execute_reply": "2022-11-03T10:29:36.138213Z",
     "shell.execute_reply.started": "2022-11-03T10:29:36.133498Z"
    },
    "id": "oTzTi9tRdO6j"
   },
   "outputs": [],
   "source": [
    "df0 = df0[0:100000]"
   ]
  },
  {
   "cell_type": "code",
   "execution_count": 6,
   "metadata": {
    "execution": {
     "iopub.execute_input": "2022-11-03T10:29:36.141405Z",
     "iopub.status.busy": "2022-11-03T10:29:36.141087Z",
     "iopub.status.idle": "2022-11-03T10:29:36.239334Z",
     "shell.execute_reply": "2022-11-03T10:29:36.238237Z",
     "shell.execute_reply.started": "2022-11-03T10:29:36.141362Z"
    }
   },
   "outputs": [
    {
     "data": {
      "text/html": [
       "<div>\n",
       "<style scoped>\n",
       "    .dataframe tbody tr th:only-of-type {\n",
       "        vertical-align: middle;\n",
       "    }\n",
       "\n",
       "    .dataframe tbody tr th {\n",
       "        vertical-align: top;\n",
       "    }\n",
       "\n",
       "    .dataframe thead th {\n",
       "        text-align: right;\n",
       "    }\n",
       "</style>\n",
       "<table border=\"1\" class=\"dataframe\">\n",
       "  <thead>\n",
       "    <tr style=\"text-align: right;\">\n",
       "      <th></th>\n",
       "      <th>text</th>\n",
       "      <th>id</th>\n",
       "      <th>author</th>\n",
       "      <th>subreddit</th>\n",
       "      <th>link_id</th>\n",
       "      <th>parent_id</th>\n",
       "      <th>created_utc</th>\n",
       "      <th>rater_id</th>\n",
       "      <th>example_very_unclear</th>\n",
       "      <th>admiration</th>\n",
       "      <th>...</th>\n",
       "      <th>love</th>\n",
       "      <th>nervousness</th>\n",
       "      <th>optimism</th>\n",
       "      <th>pride</th>\n",
       "      <th>realization</th>\n",
       "      <th>relief</th>\n",
       "      <th>remorse</th>\n",
       "      <th>sadness</th>\n",
       "      <th>surprise</th>\n",
       "      <th>neutral</th>\n",
       "    </tr>\n",
       "  </thead>\n",
       "  <tbody>\n",
       "    <tr>\n",
       "      <th>0</th>\n",
       "      <td>That game hurt.</td>\n",
       "      <td>eew5j0j</td>\n",
       "      <td>Brdd9</td>\n",
       "      <td>nrl</td>\n",
       "      <td>t3_ajis4z</td>\n",
       "      <td>t1_eew18eq</td>\n",
       "      <td>1.548381e+09</td>\n",
       "      <td>1</td>\n",
       "      <td>False</td>\n",
       "      <td>0</td>\n",
       "      <td>...</td>\n",
       "      <td>0</td>\n",
       "      <td>0</td>\n",
       "      <td>0</td>\n",
       "      <td>0</td>\n",
       "      <td>0</td>\n",
       "      <td>0</td>\n",
       "      <td>0</td>\n",
       "      <td>1</td>\n",
       "      <td>0</td>\n",
       "      <td>0</td>\n",
       "    </tr>\n",
       "    <tr>\n",
       "      <th>1</th>\n",
       "      <td>&gt;sexuality shouldn’t be a grouping category I...</td>\n",
       "      <td>eemcysk</td>\n",
       "      <td>TheGreen888</td>\n",
       "      <td>unpopularopinion</td>\n",
       "      <td>t3_ai4q37</td>\n",
       "      <td>t3_ai4q37</td>\n",
       "      <td>1.548084e+09</td>\n",
       "      <td>37</td>\n",
       "      <td>True</td>\n",
       "      <td>0</td>\n",
       "      <td>...</td>\n",
       "      <td>0</td>\n",
       "      <td>0</td>\n",
       "      <td>0</td>\n",
       "      <td>0</td>\n",
       "      <td>0</td>\n",
       "      <td>0</td>\n",
       "      <td>0</td>\n",
       "      <td>0</td>\n",
       "      <td>0</td>\n",
       "      <td>0</td>\n",
       "    </tr>\n",
       "    <tr>\n",
       "      <th>2</th>\n",
       "      <td>You do right, if you don't care then fuck 'em!</td>\n",
       "      <td>ed2mah1</td>\n",
       "      <td>Labalool</td>\n",
       "      <td>confessions</td>\n",
       "      <td>t3_abru74</td>\n",
       "      <td>t1_ed2m7g7</td>\n",
       "      <td>1.546428e+09</td>\n",
       "      <td>37</td>\n",
       "      <td>False</td>\n",
       "      <td>0</td>\n",
       "      <td>...</td>\n",
       "      <td>0</td>\n",
       "      <td>0</td>\n",
       "      <td>0</td>\n",
       "      <td>0</td>\n",
       "      <td>0</td>\n",
       "      <td>0</td>\n",
       "      <td>0</td>\n",
       "      <td>0</td>\n",
       "      <td>0</td>\n",
       "      <td>1</td>\n",
       "    </tr>\n",
       "    <tr>\n",
       "      <th>3</th>\n",
       "      <td>Man I love reddit.</td>\n",
       "      <td>eeibobj</td>\n",
       "      <td>MrsRobertshaw</td>\n",
       "      <td>facepalm</td>\n",
       "      <td>t3_ahulml</td>\n",
       "      <td>t3_ahulml</td>\n",
       "      <td>1.547965e+09</td>\n",
       "      <td>18</td>\n",
       "      <td>False</td>\n",
       "      <td>0</td>\n",
       "      <td>...</td>\n",
       "      <td>1</td>\n",
       "      <td>0</td>\n",
       "      <td>0</td>\n",
       "      <td>0</td>\n",
       "      <td>0</td>\n",
       "      <td>0</td>\n",
       "      <td>0</td>\n",
       "      <td>0</td>\n",
       "      <td>0</td>\n",
       "      <td>0</td>\n",
       "    </tr>\n",
       "    <tr>\n",
       "      <th>4</th>\n",
       "      <td>[NAME] was nowhere near them, he was by the Fa...</td>\n",
       "      <td>eda6yn6</td>\n",
       "      <td>American_Fascist713</td>\n",
       "      <td>starwarsspeculation</td>\n",
       "      <td>t3_ackt2f</td>\n",
       "      <td>t1_eda65q2</td>\n",
       "      <td>1.546669e+09</td>\n",
       "      <td>2</td>\n",
       "      <td>False</td>\n",
       "      <td>0</td>\n",
       "      <td>...</td>\n",
       "      <td>0</td>\n",
       "      <td>0</td>\n",
       "      <td>0</td>\n",
       "      <td>0</td>\n",
       "      <td>0</td>\n",
       "      <td>0</td>\n",
       "      <td>0</td>\n",
       "      <td>0</td>\n",
       "      <td>0</td>\n",
       "      <td>1</td>\n",
       "    </tr>\n",
       "    <tr>\n",
       "      <th>...</th>\n",
       "      <td>...</td>\n",
       "      <td>...</td>\n",
       "      <td>...</td>\n",
       "      <td>...</td>\n",
       "      <td>...</td>\n",
       "      <td>...</td>\n",
       "      <td>...</td>\n",
       "      <td>...</td>\n",
       "      <td>...</td>\n",
       "      <td>...</td>\n",
       "      <td>...</td>\n",
       "      <td>...</td>\n",
       "      <td>...</td>\n",
       "      <td>...</td>\n",
       "      <td>...</td>\n",
       "      <td>...</td>\n",
       "      <td>...</td>\n",
       "      <td>...</td>\n",
       "      <td>...</td>\n",
       "      <td>...</td>\n",
       "      <td>...</td>\n",
       "    </tr>\n",
       "    <tr>\n",
       "      <th>99995</th>\n",
       "      <td>I said nothing of the sort.</td>\n",
       "      <td>edwqt3w</td>\n",
       "      <td>NeatRefrigerator</td>\n",
       "      <td>badunitedkingdom</td>\n",
       "      <td>t3_af96mh</td>\n",
       "      <td>t1_edwoxmr</td>\n",
       "      <td>1.547317e+09</td>\n",
       "      <td>41</td>\n",
       "      <td>False</td>\n",
       "      <td>0</td>\n",
       "      <td>...</td>\n",
       "      <td>0</td>\n",
       "      <td>0</td>\n",
       "      <td>0</td>\n",
       "      <td>0</td>\n",
       "      <td>0</td>\n",
       "      <td>0</td>\n",
       "      <td>0</td>\n",
       "      <td>0</td>\n",
       "      <td>0</td>\n",
       "      <td>0</td>\n",
       "    </tr>\n",
       "    <tr>\n",
       "      <th>99996</th>\n",
       "      <td>Damn that must feel great!</td>\n",
       "      <td>efeej4j</td>\n",
       "      <td>UncomfortableRun</td>\n",
       "      <td>seduction</td>\n",
       "      <td>t3_alh1lc</td>\n",
       "      <td>t3_alh1lc</td>\n",
       "      <td>1.548891e+09</td>\n",
       "      <td>40</td>\n",
       "      <td>False</td>\n",
       "      <td>0</td>\n",
       "      <td>...</td>\n",
       "      <td>0</td>\n",
       "      <td>0</td>\n",
       "      <td>0</td>\n",
       "      <td>0</td>\n",
       "      <td>0</td>\n",
       "      <td>0</td>\n",
       "      <td>0</td>\n",
       "      <td>0</td>\n",
       "      <td>0</td>\n",
       "      <td>0</td>\n",
       "    </tr>\n",
       "    <tr>\n",
       "      <th>99997</th>\n",
       "      <td>It's givin' off that disco vibe, and if I unde...</td>\n",
       "      <td>eezotoc</td>\n",
       "      <td>BrotherChe</td>\n",
       "      <td>WatchPeopleDieInside</td>\n",
       "      <td>t3_ajtrfb</td>\n",
       "      <td>t1_eezl315</td>\n",
       "      <td>1.548479e+09</td>\n",
       "      <td>57</td>\n",
       "      <td>False</td>\n",
       "      <td>0</td>\n",
       "      <td>...</td>\n",
       "      <td>0</td>\n",
       "      <td>0</td>\n",
       "      <td>0</td>\n",
       "      <td>0</td>\n",
       "      <td>1</td>\n",
       "      <td>0</td>\n",
       "      <td>0</td>\n",
       "      <td>0</td>\n",
       "      <td>0</td>\n",
       "      <td>0</td>\n",
       "    </tr>\n",
       "    <tr>\n",
       "      <th>99998</th>\n",
       "      <td>That's awful. I'm glad [NAME] doing better, bu...</td>\n",
       "      <td>eeye1pi</td>\n",
       "      <td>59926</td>\n",
       "      <td>MorbidReality</td>\n",
       "      <td>t3_ajmlwx</td>\n",
       "      <td>t1_eexvbz4</td>\n",
       "      <td>1.548445e+09</td>\n",
       "      <td>46</td>\n",
       "      <td>False</td>\n",
       "      <td>1</td>\n",
       "      <td>...</td>\n",
       "      <td>0</td>\n",
       "      <td>0</td>\n",
       "      <td>0</td>\n",
       "      <td>0</td>\n",
       "      <td>0</td>\n",
       "      <td>0</td>\n",
       "      <td>0</td>\n",
       "      <td>0</td>\n",
       "      <td>0</td>\n",
       "      <td>0</td>\n",
       "    </tr>\n",
       "    <tr>\n",
       "      <th>99999</th>\n",
       "      <td>Those women are the worst.</td>\n",
       "      <td>ef3s8ai</td>\n",
       "      <td>snatcher04</td>\n",
       "      <td>cringe</td>\n",
       "      <td>t3_ak5dui</td>\n",
       "      <td>t3_ak5dui</td>\n",
       "      <td>1.548603e+09</td>\n",
       "      <td>35</td>\n",
       "      <td>False</td>\n",
       "      <td>0</td>\n",
       "      <td>...</td>\n",
       "      <td>0</td>\n",
       "      <td>0</td>\n",
       "      <td>0</td>\n",
       "      <td>0</td>\n",
       "      <td>0</td>\n",
       "      <td>0</td>\n",
       "      <td>0</td>\n",
       "      <td>0</td>\n",
       "      <td>0</td>\n",
       "      <td>0</td>\n",
       "    </tr>\n",
       "  </tbody>\n",
       "</table>\n",
       "<p>100000 rows × 37 columns</p>\n",
       "</div>"
      ],
      "text/plain": [
       "                                                    text       id  \\\n",
       "0                                        That game hurt.  eew5j0j   \n",
       "1       >sexuality shouldn’t be a grouping category I...  eemcysk   \n",
       "2         You do right, if you don't care then fuck 'em!  ed2mah1   \n",
       "3                                     Man I love reddit.  eeibobj   \n",
       "4      [NAME] was nowhere near them, he was by the Fa...  eda6yn6   \n",
       "...                                                  ...      ...   \n",
       "99995                        I said nothing of the sort.  edwqt3w   \n",
       "99996                         Damn that must feel great!  efeej4j   \n",
       "99997  It's givin' off that disco vibe, and if I unde...  eezotoc   \n",
       "99998  That's awful. I'm glad [NAME] doing better, bu...  eeye1pi   \n",
       "99999                         Those women are the worst.  ef3s8ai   \n",
       "\n",
       "                    author             subreddit    link_id   parent_id  \\\n",
       "0                    Brdd9                   nrl  t3_ajis4z  t1_eew18eq   \n",
       "1              TheGreen888      unpopularopinion  t3_ai4q37   t3_ai4q37   \n",
       "2                 Labalool           confessions  t3_abru74  t1_ed2m7g7   \n",
       "3            MrsRobertshaw              facepalm  t3_ahulml   t3_ahulml   \n",
       "4      American_Fascist713   starwarsspeculation  t3_ackt2f  t1_eda65q2   \n",
       "...                    ...                   ...        ...         ...   \n",
       "99995     NeatRefrigerator      badunitedkingdom  t3_af96mh  t1_edwoxmr   \n",
       "99996     UncomfortableRun             seduction  t3_alh1lc   t3_alh1lc   \n",
       "99997           BrotherChe  WatchPeopleDieInside  t3_ajtrfb  t1_eezl315   \n",
       "99998                59926         MorbidReality  t3_ajmlwx  t1_eexvbz4   \n",
       "99999           snatcher04                cringe  t3_ak5dui   t3_ak5dui   \n",
       "\n",
       "        created_utc  rater_id  example_very_unclear  admiration  ...  love  \\\n",
       "0      1.548381e+09         1                 False           0  ...     0   \n",
       "1      1.548084e+09        37                  True           0  ...     0   \n",
       "2      1.546428e+09        37                 False           0  ...     0   \n",
       "3      1.547965e+09        18                 False           0  ...     1   \n",
       "4      1.546669e+09         2                 False           0  ...     0   \n",
       "...             ...       ...                   ...         ...  ...   ...   \n",
       "99995  1.547317e+09        41                 False           0  ...     0   \n",
       "99996  1.548891e+09        40                 False           0  ...     0   \n",
       "99997  1.548479e+09        57                 False           0  ...     0   \n",
       "99998  1.548445e+09        46                 False           1  ...     0   \n",
       "99999  1.548603e+09        35                 False           0  ...     0   \n",
       "\n",
       "       nervousness  optimism  pride  realization  relief  remorse  sadness  \\\n",
       "0                0         0      0            0       0        0        1   \n",
       "1                0         0      0            0       0        0        0   \n",
       "2                0         0      0            0       0        0        0   \n",
       "3                0         0      0            0       0        0        0   \n",
       "4                0         0      0            0       0        0        0   \n",
       "...            ...       ...    ...          ...     ...      ...      ...   \n",
       "99995            0         0      0            0       0        0        0   \n",
       "99996            0         0      0            0       0        0        0   \n",
       "99997            0         0      0            1       0        0        0   \n",
       "99998            0         0      0            0       0        0        0   \n",
       "99999            0         0      0            0       0        0        0   \n",
       "\n",
       "       surprise  neutral  \n",
       "0             0        0  \n",
       "1             0        0  \n",
       "2             0        1  \n",
       "3             0        0  \n",
       "4             0        1  \n",
       "...         ...      ...  \n",
       "99995         0        0  \n",
       "99996         0        0  \n",
       "99997         0        0  \n",
       "99998         0        0  \n",
       "99999         0        0  \n",
       "\n",
       "[100000 rows x 37 columns]"
      ]
     },
     "execution_count": 6,
     "metadata": {},
     "output_type": "execute_result"
    }
   ],
   "source": [
    "df0\n"
   ]
  },
  {
   "cell_type": "code",
   "execution_count": 7,
   "metadata": {
    "execution": {
     "iopub.execute_input": "2022-11-03T10:29:36.240876Z",
     "iopub.status.busy": "2022-11-03T10:29:36.240560Z",
     "iopub.status.idle": "2022-11-03T10:29:36.246354Z",
     "shell.execute_reply": "2022-11-03T10:29:36.245296Z",
     "shell.execute_reply.started": "2022-11-03T10:29:36.240850Z"
    },
    "id": "mXk2fdoOtngl"
   },
   "outputs": [],
   "source": [
    "POSITIVE_EMOTIONS = [\n",
    "    'admiration', 'amusement', 'approval', 'caring',\n",
    "    'excitement', 'gratitude','joy', 'love', 'optimism'\n",
    "]\n",
    "\n",
    "NEGATIVE_EMOTIONS = [\n",
    "    'anger', 'annoyance', 'disappointment', 'disapproval',\n",
    "    'disgust', 'embarrassment', 'fear', 'grief', 'sadness','remorse'\n",
    "]"
   ]
  },
  {
   "cell_type": "code",
   "execution_count": 8,
   "metadata": {
    "execution": {
     "iopub.execute_input": "2022-11-03T10:29:36.247995Z",
     "iopub.status.busy": "2022-11-03T10:29:36.247642Z",
     "iopub.status.idle": "2022-11-03T10:29:37.340707Z",
     "shell.execute_reply": "2022-11-03T10:29:37.339600Z",
     "shell.execute_reply.started": "2022-11-03T10:29:36.247969Z"
    },
    "id": "rlsbkaK7trjl"
   },
   "outputs": [],
   "source": [
    "pos_sum_col = df0[POSITIVE_EMOTIONS].sum(axis=1)\n",
    "neg_sum_col = df0[NEGATIVE_EMOTIONS].sum(axis=1)\n",
    "\n",
    "positive_col, negative_col, del_rows_col = [], [], []\n",
    "\n",
    "for i in range(df0.shape[0]):\n",
    "    if (pos_sum_col[i] < neg_sum_col[i]):\n",
    "        positive_col.append(0)\n",
    "        negative_col.append(1)\n",
    "    elif (neg_sum_col[i] < pos_sum_col[i]):\n",
    "        positive_col.append(1)\n",
    "        negative_col.append(0)\n",
    "    else:\n",
    "        del_rows_col.append(i)"
   ]
  },
  {
   "cell_type": "code",
   "execution_count": 9,
   "metadata": {
    "execution": {
     "iopub.execute_input": "2022-11-03T10:29:37.342141Z",
     "iopub.status.busy": "2022-11-03T10:29:37.342126Z",
     "iopub.status.idle": "2022-11-03T10:29:37.373933Z",
     "shell.execute_reply": "2022-11-03T10:29:37.373136Z",
     "shell.execute_reply.started": "2022-11-03T10:29:37.342126Z"
    },
    "id": "vMf3YFE-tuxv"
   },
   "outputs": [],
   "source": [
    "positive_col = pd.Series(positive_col)\n",
    "negative_col = pd.Series(negative_col)"
   ]
  },
  {
   "cell_type": "code",
   "execution_count": 10,
   "metadata": {
    "execution": {
     "iopub.execute_input": "2022-11-03T10:29:37.377988Z",
     "iopub.status.busy": "2022-11-03T10:29:37.377417Z",
     "iopub.status.idle": "2022-11-03T10:29:37.391890Z",
     "shell.execute_reply": "2022-11-03T10:29:37.391263Z",
     "shell.execute_reply.started": "2022-11-03T10:29:37.377988Z"
    },
    "id": "kGLZjxcatw2X"
   },
   "outputs": [],
   "source": [
    "text_col = df0['text'].drop(labels=del_rows_col).reset_index()['text']"
   ]
  },
  {
   "cell_type": "code",
   "execution_count": 11,
   "metadata": {
    "execution": {
     "iopub.execute_input": "2022-11-03T10:29:37.393678Z",
     "iopub.status.busy": "2022-11-03T10:29:37.393040Z",
     "iopub.status.idle": "2022-11-03T10:29:37.399544Z",
     "shell.execute_reply": "2022-11-03T10:29:37.398679Z",
     "shell.execute_reply.started": "2022-11-03T10:29:37.393678Z"
    },
    "id": "v34GPE9Pt0Gv"
   },
   "outputs": [],
   "source": [
    "frame = {\n",
    "    'text': text_col,\n",
    "    'positive_emotion': positive_col,\n",
    "    'negative_emotion': negative_col\n",
    "}\n",
    "\n",
    "df = pd.DataFrame(frame)"
   ]
  },
  {
   "cell_type": "code",
   "execution_count": 12,
   "metadata": {
    "execution": {
     "iopub.execute_input": "2022-11-03T10:29:37.401518Z",
     "iopub.status.busy": "2022-11-03T10:29:37.401264Z",
     "iopub.status.idle": "2022-11-03T10:29:37.407448Z",
     "shell.execute_reply": "2022-11-03T10:29:37.406371Z",
     "shell.execute_reply.started": "2022-11-03T10:29:37.401492Z"
    },
    "id": "XGt6Zi8gwEQp"
   },
   "outputs": [],
   "source": [
    "def clean_text(text):\n",
    "    text = text.lower()\n",
    "    text = re.sub('[%s]' % re.escape(string.punctuation), '', text)\n",
    "    text = re.sub('\\w*\\d\\w*', '', text)\n",
    "    text = re.sub('[‘’“”…]', '', text)\n",
    "    text = re.sub('\\n', '', text)\n",
    "    text = re.sub(r'\\s+', ' ', text)\n",
    "\n",
    "    return text"
   ]
  },
  {
   "cell_type": "code",
   "execution_count": 13,
   "metadata": {
    "execution": {
     "iopub.execute_input": "2022-11-03T10:29:37.409846Z",
     "iopub.status.busy": "2022-11-03T10:29:37.409171Z",
     "iopub.status.idle": "2022-11-03T10:29:42.289335Z",
     "shell.execute_reply": "2022-11-03T10:29:42.288587Z",
     "shell.execute_reply.started": "2022-11-03T10:29:37.409846Z"
    },
    "id": "S9HnaT8WwGFh"
   },
   "outputs": [],
   "source": [
    "corpus = []\n",
    "for index, row in df.iterrows():\n",
    "    og_text = row['text']\n",
    "    cln_text = clean_text(og_text)\n",
    "    corpus.append(cln_text)"
   ]
  },
  {
   "cell_type": "code",
   "execution_count": 14,
   "metadata": {
    "execution": {
     "iopub.execute_input": "2022-11-03T10:29:42.292074Z",
     "iopub.status.busy": "2022-11-03T10:29:42.290919Z",
     "iopub.status.idle": "2022-11-03T10:29:43.787582Z",
     "shell.execute_reply": "2022-11-03T10:29:43.786669Z",
     "shell.execute_reply.started": "2022-11-03T10:29:42.292074Z"
    },
    "id": "W5XrxJOJwITL"
   },
   "outputs": [],
   "source": [
    "vectorizer = CountVectorizer(stop_words='english')\n",
    "docterm_matix = vectorizer.fit_transform(corpus).toarray()"
   ]
  },
  {
   "cell_type": "code",
   "execution_count": 15,
   "metadata": {
    "execution": {
     "iopub.execute_input": "2022-11-03T10:29:43.789159Z",
     "iopub.status.busy": "2022-11-03T10:29:43.788924Z",
     "iopub.status.idle": "2022-11-03T10:29:43.806937Z",
     "shell.execute_reply": "2022-11-03T10:29:43.805718Z",
     "shell.execute_reply.started": "2022-11-03T10:29:43.789134Z"
    },
    "id": "DuVzs23jwKg7"
   },
   "outputs": [],
   "source": [
    "features = vectorizer.get_feature_names_out()"
   ]
  },
  {
   "cell_type": "code",
   "execution_count": 16,
   "metadata": {
    "execution": {
     "iopub.execute_input": "2022-11-03T10:29:43.808739Z",
     "iopub.status.busy": "2022-11-03T10:29:43.808473Z",
     "iopub.status.idle": "2022-11-03T10:29:43.812433Z",
     "shell.execute_reply": "2022-11-03T10:29:43.811508Z",
     "shell.execute_reply.started": "2022-11-03T10:29:43.808713Z"
    },
    "id": "bRcjOnmpwMii"
   },
   "outputs": [],
   "source": [
    "X = docterm_matix"
   ]
  },
  {
   "cell_type": "code",
   "execution_count": 17,
   "metadata": {
    "colab": {
     "base_uri": "https://localhost:8080/"
    },
    "execution": {
     "iopub.execute_input": "2022-11-03T10:29:43.813786Z",
     "iopub.status.busy": "2022-11-03T10:29:43.813475Z",
     "iopub.status.idle": "2022-11-03T10:29:43.819243Z",
     "shell.execute_reply": "2022-11-03T10:29:43.818423Z",
     "shell.execute_reply.started": "2022-11-03T10:29:43.813762Z"
    },
    "id": "uO9mBZb7wQv6",
    "outputId": "8264d378-eb32-4d52-a039-2f8d5fb3cc65"
   },
   "outputs": [
    {
     "data": {
      "text/plain": [
       "Index(['positive_emotion', 'negative_emotion'], dtype='object')"
      ]
     },
     "execution_count": 17,
     "metadata": {},
     "output_type": "execute_result"
    }
   ],
   "source": [
    "df.columns[-2:]"
   ]
  },
  {
   "cell_type": "code",
   "execution_count": 18,
   "metadata": {
    "execution": {
     "iopub.execute_input": "2022-11-03T10:29:43.820654Z",
     "iopub.status.busy": "2022-11-03T10:29:43.820411Z",
     "iopub.status.idle": "2022-11-03T10:29:47.108861Z",
     "shell.execute_reply": "2022-11-03T10:29:47.107878Z",
     "shell.execute_reply.started": "2022-11-03T10:29:43.820622Z"
    },
    "id": "seBc05v-wSrU"
   },
   "outputs": [],
   "source": [
    "Y = []\n",
    "\n",
    "EMOTIONAL_CATEGORIES = df.columns[-2:]\n",
    "\n",
    "for index, row in df.iterrows():\n",
    "    row_y = []\n",
    "    for emotion in EMOTIONAL_CATEGORIES:\n",
    "        row_y.append(row[emotion])\n",
    "    Y.append(row_y)\n",
    "\n",
    "Y = np.array(Y)"
   ]
  },
  {
   "cell_type": "code",
   "execution_count": 19,
   "metadata": {
    "execution": {
     "iopub.execute_input": "2022-11-03T10:29:47.110375Z",
     "iopub.status.busy": "2022-11-03T10:29:47.109750Z",
     "iopub.status.idle": "2022-11-03T10:29:54.468015Z",
     "shell.execute_reply": "2022-11-03T10:29:54.467109Z",
     "shell.execute_reply.started": "2022-11-03T10:29:47.110375Z"
    },
    "id": "kFx5bRZ0wWE6"
   },
   "outputs": [],
   "source": [
    "x_train, x_test, y_train, y_test = train_test_split(X, Y, test_size=0.33, random_state=42)"
   ]
  },
  {
   "cell_type": "markdown",
   "metadata": {
    "id": "Z-Vd-jiHfz4M"
   },
   "source": [
    "## Modelación"
   ]
  },
  {
   "cell_type": "code",
   "execution_count": 20,
   "metadata": {
    "execution": {
     "iopub.execute_input": "2022-11-03T10:29:54.469873Z",
     "iopub.status.busy": "2022-11-03T10:29:54.469502Z",
     "iopub.status.idle": "2022-11-03T10:29:55.636505Z",
     "shell.execute_reply": "2022-11-03T10:29:55.635905Z",
     "shell.execute_reply.started": "2022-11-03T10:29:54.469819Z"
    },
    "id": "wZnqL9BSwbwr"
   },
   "outputs": [],
   "source": [
    "max_features = 2000000\n",
    "embedding_dim = 128\n",
    "sequence_length = 500\n",
    "\n",
    "kernel_init = tf.keras.initializers.HeNormal()\n",
    "bias_init = tf.keras.initializers.Zeros()\n",
    "\n",
    "model = keras.Sequential(\n",
    "    [\n",
    "        keras.Input(shape=(x_train.shape[1],)),\n",
    "        #layers.Embedding(max_features, embedding_dim),\n",
    "        #layers.Dropout(0.5),\n",
    "        #layers.Bidirectional(layers.LSTM(20,dropout=0.6)),\n",
    "        #layers.Conv1D(32, 10, padding=\"valid\", activation=\"selu\"),\n",
    "        #layers.GlobalMaxPooling1D(),\n",
    "        layers.Dense(6, activation=\"relu\"),\n",
    "        layers.Dense(6, activation=\"relu\"),\n",
    "        layers.Dense(6, activation=\"relu\"),\n",
    "        layers.Dense(6, activation=\"relu\"),\n",
    "        #layers.Dense(64, activation=\"relu\"),\n",
    "        #layers.Dropout(0.2),\n",
    "        layers.Dense(y_train.shape[1], activation=\"sigmoid\")\n",
    "    ]\n",
    ")"
   ]
  },
  {
   "cell_type": "code",
   "execution_count": 21,
   "metadata": {
    "execution": {
     "iopub.execute_input": "2022-11-03T10:29:55.638275Z",
     "iopub.status.busy": "2022-11-03T10:29:55.637945Z",
     "iopub.status.idle": "2022-11-03T10:29:55.653360Z",
     "shell.execute_reply": "2022-11-03T10:29:55.652176Z",
     "shell.execute_reply.started": "2022-11-03T10:29:55.638247Z"
    },
    "id": "WZ4W0_rqweCs"
   },
   "outputs": [],
   "source": [
    "opt = keras.optimizers.Adam(learning_rate=0.01)\n",
    "loss_fn = keras.losses.BinaryCrossentropy()\n",
    "\n",
    "model.compile(loss=loss_fn, optimizer=opt, metrics=['accuracy'])"
   ]
  },
  {
   "cell_type": "code",
   "execution_count": 22,
   "metadata": {
    "colab": {
     "base_uri": "https://localhost:8080/"
    },
    "execution": {
     "iopub.execute_input": "2022-11-03T10:29:55.655385Z",
     "iopub.status.busy": "2022-11-03T10:29:55.655109Z",
     "iopub.status.idle": "2022-11-03T10:30:37.144468Z",
     "shell.execute_reply": "2022-11-03T10:30:37.143506Z",
     "shell.execute_reply.started": "2022-11-03T10:29:55.655373Z"
    },
    "id": "cqVUsxvFehq0",
    "outputId": "41fb678f-b926-4dad-e156-4aed150a7e5b"
   },
   "outputs": [
    {
     "name": "stderr",
     "output_type": "stream",
     "text": [
      "2022-11-03 10:29:55.658536: W tensorflow/core/framework/cpu_allocator_impl.cc:82] Allocation of 6725379112 exceeds 10% of free system memory.\n",
      "2022-11-03 10:30:02.618515: W tensorflow/core/framework/cpu_allocator_impl.cc:82] Allocation of 6725379112 exceeds 10% of free system memory.\n"
     ]
    },
    {
     "name": "stdout",
     "output_type": "stream",
     "text": [
      "Epoch 1/3\n",
      "1096/1096 [==============================] - 11s 10ms/step - loss: 0.4844 - accuracy: 0.7680 - val_loss: 0.4518 - val_accuracy: 0.7979\n",
      "Epoch 2/3\n",
      "1096/1096 [==============================] - 9s 8ms/step - loss: 0.3524 - accuracy: 0.8525 - val_loss: 0.4680 - val_accuracy: 0.7877\n",
      "Epoch 3/3\n",
      "1096/1096 [==============================] - 9s 8ms/step - loss: 0.2880 - accuracy: 0.8819 - val_loss: 0.4975 - val_accuracy: 0.8023\n"
     ]
    },
    {
     "data": {
      "text/plain": [
       "<keras.callbacks.History at 0x7f3c026eaf10>"
      ]
     },
     "execution_count": 22,
     "metadata": {},
     "output_type": "execute_result"
    }
   ],
   "source": [
    "model.fit(x_train, y_train, epochs=3, validation_split=0.1)"
   ]
  },
  {
   "cell_type": "code",
   "execution_count": 24,
   "metadata": {
    "execution": {
     "iopub.execute_input": "2022-11-03T10:30:54.901702Z",
     "iopub.status.busy": "2022-11-03T10:30:54.900567Z",
     "iopub.status.idle": "2022-11-03T10:31:04.962898Z",
     "shell.execute_reply": "2022-11-03T10:31:04.961809Z",
     "shell.execute_reply.started": "2022-11-03T10:30:54.901702Z"
    },
    "id": "KegroZfpeltE"
   },
   "outputs": [
    {
     "name": "stderr",
     "output_type": "stream",
     "text": [
      "2022-11-03 10:30:54.904226: W tensorflow/core/framework/cpu_allocator_impl.cc:82] Allocation of 3680757176 exceeds 10% of free system memory.\n",
      "2022-11-03 10:30:58.743241: W tensorflow/core/framework/cpu_allocator_impl.cc:82] Allocation of 3680757176 exceeds 10% of free system memory.\n"
     ]
    },
    {
     "name": "stdout",
     "output_type": "stream",
     "text": [
      "Test loss: 0.48770761489868164\n",
      "Test accuracy: 0.8014702200889587\n"
     ]
    }
   ],
   "source": [
    "score = model.evaluate(x_test, y_test, verbose=0)\n",
    "print(\"Test loss:\", score[0])\n",
    "print(\"Test accuracy:\", score[1])"
   ]
  }
 ],
 "metadata": {
  "accelerator": "GPU",
  "colab": {
   "collapsed_sections": [
    "_CdaXce0fQva",
    "Z-Vd-jiHfz4M"
   ],
   "provenance": []
  },
  "gpuClass": "standard",
  "kernelspec": {
   "display_name": "Python 3 (ipykernel)",
   "language": "python",
   "name": "python3"
  },
  "language_info": {
   "codemirror_mode": {
    "name": "ipython",
    "version": 3
   },
   "file_extension": ".py",
   "mimetype": "text/x-python",
   "name": "python",
   "nbconvert_exporter": "python",
   "pygments_lexer": "ipython3",
   "version": "3.9.13"
  },
  "vscode": {
   "interpreter": {
    "hash": "fbb99c238ed990ca4fd04b1010d220072070fa5b3a4e33c39777106bb1225fd9"
   }
  }
 },
 "nbformat": 4,
 "nbformat_minor": 4
}
